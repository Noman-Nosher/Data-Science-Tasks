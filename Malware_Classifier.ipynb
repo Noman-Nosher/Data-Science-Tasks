{
  "nbformat": 4,
  "nbformat_minor": 0,
  "metadata": {
    "colab": {
      "name": "Malware_Classifier.ipynb",
      "provenance": [],
      "collapsed_sections": [],
      "mount_file_id": "1tHfUZoZ4bpaVaIQA61ByRs1PpOE0fYG-",
      "authorship_tag": "ABX9TyP26cPY81j2Io4GOOYMUgrC",
      "include_colab_link": true
    },
    "kernelspec": {
      "name": "python3",
      "display_name": "Python 3"
    },
    "language_info": {
      "name": "python"
    }
  },
  "cells": [
    {
      "cell_type": "markdown",
      "metadata": {
        "id": "view-in-github",
        "colab_type": "text"
      },
      "source": [
        "<a href=\"https://colab.research.google.com/github/Noman-Nosher/Data-Science-Tasks/blob/main/Malware_Classifier.ipynb\" target=\"_parent\"><img src=\"https://colab.research.google.com/assets/colab-badge.svg\" alt=\"Open In Colab\"/></a>"
      ]
    },
    {
      "cell_type": "code",
      "execution_count": 1,
      "metadata": {
        "id": "d-a1r-iVCJEE"
      },
      "outputs": [],
      "source": [
        "# import libraries\n",
        "import numpy as np\n",
        "import torch\n",
        "import pandas as pd\n",
        "import csv\n",
        "import random"
      ]
    },
    {
      "cell_type": "code",
      "source": [
        "#pytorch tabular\n",
        "!pip install pytorch_tabular[all]"
      ],
      "metadata": {
        "id": "bXPD_REFQN8s"
      },
      "execution_count": null,
      "outputs": []
    },
    {
      "cell_type": "code",
      "source": [
        "# path of training data and testing data\n",
        "\n",
        "test_data = \"/content/drive/MyDrive/Muiba_project/Test data.csv\"\n",
        "train_data = \"/content/drive/MyDrive/Muiba_project/Training.csv\"\n",
        "# rough_data for insights\n",
        "rough_data = train_data\n"
      ],
      "metadata": {
        "id": "aSxPRRI-DO0k"
      },
      "execution_count": 2,
      "outputs": []
    },
    {
      "cell_type": "code",
      "source": [
        "print(f\"file path of rough_data is {rough_data} with type {type(rough_data)}\".format(rough_data,type(rough_data)))"
      ],
      "metadata": {
        "colab": {
          "base_uri": "https://localhost:8080/"
        },
        "id": "7mPdM-X9QUQe",
        "outputId": "5c587fd2-b2ed-4b2d-9bd8-f4a1cfa5b0b8"
      },
      "execution_count": 3,
      "outputs": [
        {
          "output_type": "stream",
          "name": "stdout",
          "text": [
            "file path of rough_data is /content/drive/MyDrive/Muiba_project/Training.csv with type <class 'str'>\n"
          ]
        }
      ]
    },
    {
      "cell_type": "code",
      "source": [
        "# How we can get sample from population before converting it into a dataframe\n",
        "print(f\"file path of rough_data is {rough_data} with type {type(rough_data)}\".format(rough_data,type(rough_data)))\n",
        "population = sum(1 for line in open(rough_data)) - 1 #number of records in file (excludes header)\n",
        "sample = 1000 #desired sample size\n",
        "print(\"Population is\",population)\n",
        "print(\"Desired sample is \",sample)\n",
        "skip = sorted(random.sample(range(1,population+1),population-sample)) #the 0-indexed header will not be included in the skip list\n",
        "print(\"Skip rows are \",len(skip))\n",
        "df = pd.read_csv(rough_data, skiprows=skip)\n",
        "df.to_csv(\"temp.csv\")\n",
        "\n",
        "print(\"Data frame shape is \",df.shape)"
      ],
      "metadata": {
        "colab": {
          "base_uri": "https://localhost:8080/"
        },
        "id": "P_mdT-qbSJTD",
        "outputId": "347c30c1-8464-424a-ebc6-3a846e58865e"
      },
      "execution_count": 17,
      "outputs": [
        {
          "output_type": "stream",
          "name": "stdout",
          "text": [
            "file path of rough_data is /content/drive/MyDrive/Muiba_project/Training.csv with type <class 'str'>\n",
            "Population is 1857\n",
            "Desired sample is  1000\n",
            "Skip rows are  857\n",
            "Data frame shape is  (1000, 244)\n"
          ]
        }
      ]
    },
    {
      "cell_type": "code",
      "source": [
        "df.head()"
      ],
      "metadata": {
        "colab": {
          "base_uri": "https://localhost:8080/",
          "height": 300
        },
        "id": "r9aOTeAt88_H",
        "outputId": "5a93bc45-3fcb-4535-d975-a12fd69cb886"
      },
      "execution_count": 18,
      "outputs": [
        {
          "output_type": "execute_result",
          "data": {
            "text/html": [
              "\n",
              "  <div id=\"df-865a0745-a1e3-439d-a458-ce61ec587094\">\n",
              "    <div class=\"colab-df-container\">\n",
              "      <div>\n",
              "<style scoped>\n",
              "    .dataframe tbody tr th:only-of-type {\n",
              "        vertical-align: middle;\n",
              "    }\n",
              "\n",
              "    .dataframe tbody tr th {\n",
              "        vertical-align: top;\n",
              "    }\n",
              "\n",
              "    .dataframe thead th {\n",
              "        text-align: right;\n",
              "    }\n",
              "</style>\n",
              "<table border=\"1\" class=\"dataframe\">\n",
              "  <thead>\n",
              "    <tr style=\"text-align: right;\">\n",
              "      <th></th>\n",
              "      <th>__exception__</th>\n",
              "      <th>bind</th>\n",
              "      <th>certopenstore</th>\n",
              "      <th>closesocket</th>\n",
              "      <th>cocreateinstance</th>\n",
              "      <th>cocreateinstanceex</th>\n",
              "      <th>cogetclassobject</th>\n",
              "      <th>coinitializeex</th>\n",
              "      <th>coinitializesecurity</th>\n",
              "      <th>connect</th>\n",
              "      <th>controlservice</th>\n",
              "      <th>copyfilea</th>\n",
              "      <th>copyfileexw</th>\n",
              "      <th>copyfilew</th>\n",
              "      <th>couninitialize</th>\n",
              "      <th>createactctxw</th>\n",
              "      <th>createdirectoryw</th>\n",
              "      <th>createprocessinternalw</th>\n",
              "      <th>createremotethread</th>\n",
              "      <th>createservicea</th>\n",
              "      <th>createservicew</th>\n",
              "      <th>createthread</th>\n",
              "      <th>createtoolhelp32snapshot</th>\n",
              "      <th>deletefilew</th>\n",
              "      <th>deleteservice</th>\n",
              "      <th>deleteurlcacheentrya</th>\n",
              "      <th>deviceiocontrol</th>\n",
              "      <th>dnsquery_a</th>\n",
              "      <th>dnsquery_w</th>\n",
              "      <th>drawtextexa</th>\n",
              "      <th>drawtextexw</th>\n",
              "      <th>enumservicesstatusa</th>\n",
              "      <th>enumwindows</th>\n",
              "      <th>findfirstfileexw</th>\n",
              "      <th>findresourcea</th>\n",
              "      <th>findresourceexa</th>\n",
              "      <th>findresourceexw</th>\n",
              "      <th>findresourcew</th>\n",
              "      <th>findwindowa</th>\n",
              "      <th>findwindowexa</th>\n",
              "      <th>...</th>\n",
              "      <th>rtlcreateuserthread</th>\n",
              "      <th>rtldecompressbuffer</th>\n",
              "      <th>rtlremovevectoredexceptionhandler</th>\n",
              "      <th>searchpathw</th>\n",
              "      <th>select</th>\n",
              "      <th>send</th>\n",
              "      <th>sendnotifymessagea</th>\n",
              "      <th>sendnotifymessagew</th>\n",
              "      <th>sendto</th>\n",
              "      <th>setendoffile</th>\n",
              "      <th>seterrormode</th>\n",
              "      <th>setfileattributesw</th>\n",
              "      <th>setfilepointer</th>\n",
              "      <th>setfilepointerex</th>\n",
              "      <th>setfiletime</th>\n",
              "      <th>setsockopt</th>\n",
              "      <th>setunhandledexceptionfilter</th>\n",
              "      <th>setwindowshookexa</th>\n",
              "      <th>setwindowshookexw</th>\n",
              "      <th>shellexecuteexw</th>\n",
              "      <th>shgetfolderpathw</th>\n",
              "      <th>shgetspecialfolderlocation</th>\n",
              "      <th>shutdown</th>\n",
              "      <th>sizeofresource</th>\n",
              "      <th>socket</th>\n",
              "      <th>startservicea</th>\n",
              "      <th>startservicew</th>\n",
              "      <th>timegettime</th>\n",
              "      <th>unhookwindowshookex</th>\n",
              "      <th>uuidcreate</th>\n",
              "      <th>writeconsolea</th>\n",
              "      <th>writeconsolew</th>\n",
              "      <th>writeprocessmemory</th>\n",
              "      <th>wsarecv</th>\n",
              "      <th>wsarecvfrom</th>\n",
              "      <th>wsasendto</th>\n",
              "      <th>wsasocketa</th>\n",
              "      <th>wsasocketw</th>\n",
              "      <th>wsastartup</th>\n",
              "      <th>Label</th>\n",
              "    </tr>\n",
              "  </thead>\n",
              "  <tbody>\n",
              "    <tr>\n",
              "      <th>0</th>\n",
              "      <td>-0.000963</td>\n",
              "      <td>0.000718</td>\n",
              "      <td>0.000829</td>\n",
              "      <td>0.001362</td>\n",
              "      <td>0.000759</td>\n",
              "      <td>-0.001614</td>\n",
              "      <td>-0.001002</td>\n",
              "      <td>-0.000829</td>\n",
              "      <td>-0.000672</td>\n",
              "      <td>0.001650</td>\n",
              "      <td>0.001524</td>\n",
              "      <td>0.000957</td>\n",
              "      <td>0.000708</td>\n",
              "      <td>0.001490</td>\n",
              "      <td>-0.000828</td>\n",
              "      <td>-0.001358</td>\n",
              "      <td>-0.001583</td>\n",
              "      <td>-0.001116</td>\n",
              "      <td>0.000813</td>\n",
              "      <td>0.001393</td>\n",
              "      <td>0.001369</td>\n",
              "      <td>-0.001203</td>\n",
              "      <td>-0.001583</td>\n",
              "      <td>0.000747</td>\n",
              "      <td>0.000613</td>\n",
              "      <td>-0.001084</td>\n",
              "      <td>-0.001618</td>\n",
              "      <td>0.001225</td>\n",
              "      <td>0.001695</td>\n",
              "      <td>0.000120</td>\n",
              "      <td>0.000975</td>\n",
              "      <td>-0.000254</td>\n",
              "      <td>0.000255</td>\n",
              "      <td>0.000504</td>\n",
              "      <td>0.000461</td>\n",
              "      <td>-0.001181</td>\n",
              "      <td>0.001768</td>\n",
              "      <td>-0.001690</td>\n",
              "      <td>0.001021</td>\n",
              "      <td>0.001343</td>\n",
              "      <td>...</td>\n",
              "      <td>-0.001278</td>\n",
              "      <td>0.001874</td>\n",
              "      <td>-0.001615</td>\n",
              "      <td>0.001061</td>\n",
              "      <td>0.001720</td>\n",
              "      <td>0.001215</td>\n",
              "      <td>0.001430</td>\n",
              "      <td>-0.001638</td>\n",
              "      <td>-0.000283</td>\n",
              "      <td>0.001843</td>\n",
              "      <td>0.078556</td>\n",
              "      <td>-0.000649</td>\n",
              "      <td>0.000016</td>\n",
              "      <td>0.000360</td>\n",
              "      <td>0.000848</td>\n",
              "      <td>0.001703</td>\n",
              "      <td>0.077283</td>\n",
              "      <td>-0.001794</td>\n",
              "      <td>0.001158</td>\n",
              "      <td>-0.001836</td>\n",
              "      <td>0.000126</td>\n",
              "      <td>-0.001831</td>\n",
              "      <td>0.000386</td>\n",
              "      <td>0.001057</td>\n",
              "      <td>-0.001129</td>\n",
              "      <td>-0.001568</td>\n",
              "      <td>0.001553</td>\n",
              "      <td>0.000373</td>\n",
              "      <td>0.001689</td>\n",
              "      <td>-0.001432</td>\n",
              "      <td>0.001885</td>\n",
              "      <td>0.001459</td>\n",
              "      <td>-0.000676</td>\n",
              "      <td>0.001975</td>\n",
              "      <td>0.001742</td>\n",
              "      <td>-0.001566</td>\n",
              "      <td>0.001918</td>\n",
              "      <td>-0.001195</td>\n",
              "      <td>0.001767</td>\n",
              "      <td>0.998609</td>\n",
              "    </tr>\n",
              "    <tr>\n",
              "      <th>1</th>\n",
              "      <td>-0.000073</td>\n",
              "      <td>-0.000437</td>\n",
              "      <td>0.001255</td>\n",
              "      <td>0.001020</td>\n",
              "      <td>-0.001543</td>\n",
              "      <td>-0.001616</td>\n",
              "      <td>-0.000399</td>\n",
              "      <td>-0.000255</td>\n",
              "      <td>-0.001041</td>\n",
              "      <td>0.001728</td>\n",
              "      <td>0.001854</td>\n",
              "      <td>0.000868</td>\n",
              "      <td>0.000594</td>\n",
              "      <td>0.001041</td>\n",
              "      <td>-0.001047</td>\n",
              "      <td>-0.001757</td>\n",
              "      <td>-0.001701</td>\n",
              "      <td>-0.000421</td>\n",
              "      <td>0.000436</td>\n",
              "      <td>0.001550</td>\n",
              "      <td>0.001434</td>\n",
              "      <td>-0.001379</td>\n",
              "      <td>-0.001225</td>\n",
              "      <td>0.000940</td>\n",
              "      <td>0.000959</td>\n",
              "      <td>-0.000370</td>\n",
              "      <td>-0.001907</td>\n",
              "      <td>0.001608</td>\n",
              "      <td>0.001839</td>\n",
              "      <td>-0.000067</td>\n",
              "      <td>0.000749</td>\n",
              "      <td>-0.000805</td>\n",
              "      <td>0.000552</td>\n",
              "      <td>0.000445</td>\n",
              "      <td>0.000132</td>\n",
              "      <td>-0.000329</td>\n",
              "      <td>0.001702</td>\n",
              "      <td>-0.001672</td>\n",
              "      <td>0.000845</td>\n",
              "      <td>0.001148</td>\n",
              "      <td>...</td>\n",
              "      <td>-0.000887</td>\n",
              "      <td>0.001850</td>\n",
              "      <td>-0.000550</td>\n",
              "      <td>0.000992</td>\n",
              "      <td>0.001574</td>\n",
              "      <td>0.001848</td>\n",
              "      <td>0.001725</td>\n",
              "      <td>-0.001735</td>\n",
              "      <td>-0.000806</td>\n",
              "      <td>0.001773</td>\n",
              "      <td>0.079865</td>\n",
              "      <td>0.000550</td>\n",
              "      <td>0.000995</td>\n",
              "      <td>0.000227</td>\n",
              "      <td>0.000509</td>\n",
              "      <td>0.001575</td>\n",
              "      <td>0.001716</td>\n",
              "      <td>-0.001938</td>\n",
              "      <td>0.001292</td>\n",
              "      <td>-0.001845</td>\n",
              "      <td>0.000827</td>\n",
              "      <td>-0.001803</td>\n",
              "      <td>-0.000367</td>\n",
              "      <td>0.001338</td>\n",
              "      <td>-0.001022</td>\n",
              "      <td>-0.001552</td>\n",
              "      <td>0.001041</td>\n",
              "      <td>0.000119</td>\n",
              "      <td>0.001681</td>\n",
              "      <td>-0.001669</td>\n",
              "      <td>0.001870</td>\n",
              "      <td>0.001377</td>\n",
              "      <td>0.000540</td>\n",
              "      <td>0.001952</td>\n",
              "      <td>0.001858</td>\n",
              "      <td>-0.001535</td>\n",
              "      <td>0.001961</td>\n",
              "      <td>-0.001007</td>\n",
              "      <td>0.001756</td>\n",
              "      <td>0.998403</td>\n",
              "    </tr>\n",
              "    <tr>\n",
              "      <th>2</th>\n",
              "      <td>0.000463</td>\n",
              "      <td>-0.000090</td>\n",
              "      <td>0.000298</td>\n",
              "      <td>0.001720</td>\n",
              "      <td>-0.001072</td>\n",
              "      <td>-0.001955</td>\n",
              "      <td>-0.000540</td>\n",
              "      <td>-0.001400</td>\n",
              "      <td>-0.001025</td>\n",
              "      <td>0.001794</td>\n",
              "      <td>0.001809</td>\n",
              "      <td>0.000854</td>\n",
              "      <td>0.000613</td>\n",
              "      <td>0.001113</td>\n",
              "      <td>-0.000759</td>\n",
              "      <td>-0.001066</td>\n",
              "      <td>-0.001805</td>\n",
              "      <td>-0.000835</td>\n",
              "      <td>0.000203</td>\n",
              "      <td>0.001845</td>\n",
              "      <td>0.001458</td>\n",
              "      <td>-0.001237</td>\n",
              "      <td>-0.001380</td>\n",
              "      <td>0.000843</td>\n",
              "      <td>-0.000293</td>\n",
              "      <td>-0.000973</td>\n",
              "      <td>-0.001831</td>\n",
              "      <td>0.001531</td>\n",
              "      <td>0.001864</td>\n",
              "      <td>0.000115</td>\n",
              "      <td>0.001178</td>\n",
              "      <td>-0.000180</td>\n",
              "      <td>-0.000035</td>\n",
              "      <td>0.000334</td>\n",
              "      <td>-0.000087</td>\n",
              "      <td>-0.000628</td>\n",
              "      <td>0.001747</td>\n",
              "      <td>-0.001550</td>\n",
              "      <td>0.000610</td>\n",
              "      <td>0.001379</td>\n",
              "      <td>...</td>\n",
              "      <td>-0.001011</td>\n",
              "      <td>0.001934</td>\n",
              "      <td>-0.001650</td>\n",
              "      <td>0.001312</td>\n",
              "      <td>0.001705</td>\n",
              "      <td>0.001624</td>\n",
              "      <td>0.001706</td>\n",
              "      <td>-0.001743</td>\n",
              "      <td>-0.000278</td>\n",
              "      <td>0.001756</td>\n",
              "      <td>0.081315</td>\n",
              "      <td>0.000069</td>\n",
              "      <td>0.000486</td>\n",
              "      <td>0.000258</td>\n",
              "      <td>0.000467</td>\n",
              "      <td>0.001570</td>\n",
              "      <td>0.001756</td>\n",
              "      <td>-0.001869</td>\n",
              "      <td>0.000941</td>\n",
              "      <td>-0.001888</td>\n",
              "      <td>0.000517</td>\n",
              "      <td>-0.001832</td>\n",
              "      <td>0.000144</td>\n",
              "      <td>0.000420</td>\n",
              "      <td>-0.001575</td>\n",
              "      <td>-0.001525</td>\n",
              "      <td>0.001167</td>\n",
              "      <td>0.000367</td>\n",
              "      <td>0.001802</td>\n",
              "      <td>-0.001590</td>\n",
              "      <td>0.001778</td>\n",
              "      <td>0.001475</td>\n",
              "      <td>0.000341</td>\n",
              "      <td>0.001969</td>\n",
              "      <td>0.001875</td>\n",
              "      <td>-0.001438</td>\n",
              "      <td>0.001945</td>\n",
              "      <td>-0.000792</td>\n",
              "      <td>0.001725</td>\n",
              "      <td>0.998458</td>\n",
              "    </tr>\n",
              "    <tr>\n",
              "      <th>3</th>\n",
              "      <td>-0.000110</td>\n",
              "      <td>0.000429</td>\n",
              "      <td>-0.000240</td>\n",
              "      <td>0.001441</td>\n",
              "      <td>0.000192</td>\n",
              "      <td>-0.000933</td>\n",
              "      <td>-0.000693</td>\n",
              "      <td>-0.001362</td>\n",
              "      <td>-0.000587</td>\n",
              "      <td>0.001794</td>\n",
              "      <td>0.001787</td>\n",
              "      <td>-0.000234</td>\n",
              "      <td>0.001217</td>\n",
              "      <td>0.001159</td>\n",
              "      <td>-0.001265</td>\n",
              "      <td>-0.001494</td>\n",
              "      <td>-0.001729</td>\n",
              "      <td>-0.000883</td>\n",
              "      <td>0.000468</td>\n",
              "      <td>0.001695</td>\n",
              "      <td>0.001377</td>\n",
              "      <td>-0.001426</td>\n",
              "      <td>-0.001571</td>\n",
              "      <td>0.001162</td>\n",
              "      <td>-0.000150</td>\n",
              "      <td>-0.000398</td>\n",
              "      <td>-0.001674</td>\n",
              "      <td>0.001486</td>\n",
              "      <td>0.001781</td>\n",
              "      <td>0.000446</td>\n",
              "      <td>0.000922</td>\n",
              "      <td>-0.000931</td>\n",
              "      <td>0.000501</td>\n",
              "      <td>0.000512</td>\n",
              "      <td>0.001180</td>\n",
              "      <td>-0.000914</td>\n",
              "      <td>0.001791</td>\n",
              "      <td>-0.001568</td>\n",
              "      <td>0.000884</td>\n",
              "      <td>0.001523</td>\n",
              "      <td>...</td>\n",
              "      <td>-0.001017</td>\n",
              "      <td>0.001813</td>\n",
              "      <td>-0.001233</td>\n",
              "      <td>0.000985</td>\n",
              "      <td>0.001708</td>\n",
              "      <td>0.001559</td>\n",
              "      <td>0.001603</td>\n",
              "      <td>-0.001809</td>\n",
              "      <td>-0.000026</td>\n",
              "      <td>0.001811</td>\n",
              "      <td>0.078765</td>\n",
              "      <td>-0.000190</td>\n",
              "      <td>0.000864</td>\n",
              "      <td>0.000312</td>\n",
              "      <td>0.000922</td>\n",
              "      <td>0.001774</td>\n",
              "      <td>0.001668</td>\n",
              "      <td>-0.001935</td>\n",
              "      <td>0.001573</td>\n",
              "      <td>-0.001782</td>\n",
              "      <td>0.000659</td>\n",
              "      <td>-0.001851</td>\n",
              "      <td>0.000168</td>\n",
              "      <td>0.000555</td>\n",
              "      <td>-0.000873</td>\n",
              "      <td>-0.001701</td>\n",
              "      <td>0.000720</td>\n",
              "      <td>-0.000653</td>\n",
              "      <td>0.001695</td>\n",
              "      <td>-0.001685</td>\n",
              "      <td>0.001878</td>\n",
              "      <td>0.001399</td>\n",
              "      <td>-0.000438</td>\n",
              "      <td>0.001976</td>\n",
              "      <td>0.001798</td>\n",
              "      <td>-0.001319</td>\n",
              "      <td>0.001952</td>\n",
              "      <td>-0.001103</td>\n",
              "      <td>0.001852</td>\n",
              "      <td>0.998449</td>\n",
              "    </tr>\n",
              "    <tr>\n",
              "      <th>4</th>\n",
              "      <td>-0.000179</td>\n",
              "      <td>0.000160</td>\n",
              "      <td>-0.000069</td>\n",
              "      <td>0.001746</td>\n",
              "      <td>0.000969</td>\n",
              "      <td>-0.000648</td>\n",
              "      <td>-0.001143</td>\n",
              "      <td>-0.000498</td>\n",
              "      <td>-0.000059</td>\n",
              "      <td>0.001185</td>\n",
              "      <td>0.001841</td>\n",
              "      <td>-0.000192</td>\n",
              "      <td>0.001158</td>\n",
              "      <td>0.000044</td>\n",
              "      <td>-0.000663</td>\n",
              "      <td>-0.001183</td>\n",
              "      <td>-0.001749</td>\n",
              "      <td>-0.001430</td>\n",
              "      <td>0.001058</td>\n",
              "      <td>0.001635</td>\n",
              "      <td>0.001613</td>\n",
              "      <td>-0.001536</td>\n",
              "      <td>-0.001299</td>\n",
              "      <td>0.000393</td>\n",
              "      <td>0.000006</td>\n",
              "      <td>-0.000471</td>\n",
              "      <td>-0.001810</td>\n",
              "      <td>0.001426</td>\n",
              "      <td>0.001872</td>\n",
              "      <td>0.000566</td>\n",
              "      <td>0.000741</td>\n",
              "      <td>-0.000430</td>\n",
              "      <td>-0.000370</td>\n",
              "      <td>0.000640</td>\n",
              "      <td>0.001206</td>\n",
              "      <td>-0.000769</td>\n",
              "      <td>0.001576</td>\n",
              "      <td>0.000026</td>\n",
              "      <td>0.000640</td>\n",
              "      <td>0.001249</td>\n",
              "      <td>...</td>\n",
              "      <td>-0.001236</td>\n",
              "      <td>0.001878</td>\n",
              "      <td>-0.001624</td>\n",
              "      <td>0.000798</td>\n",
              "      <td>0.001624</td>\n",
              "      <td>0.001787</td>\n",
              "      <td>0.001806</td>\n",
              "      <td>-0.001284</td>\n",
              "      <td>0.000266</td>\n",
              "      <td>0.001891</td>\n",
              "      <td>0.036716</td>\n",
              "      <td>-0.000261</td>\n",
              "      <td>0.000445</td>\n",
              "      <td>0.000570</td>\n",
              "      <td>0.001558</td>\n",
              "      <td>0.001398</td>\n",
              "      <td>0.001717</td>\n",
              "      <td>-0.001780</td>\n",
              "      <td>0.000555</td>\n",
              "      <td>-0.001897</td>\n",
              "      <td>0.000587</td>\n",
              "      <td>-0.001747</td>\n",
              "      <td>0.000037</td>\n",
              "      <td>-0.000074</td>\n",
              "      <td>-0.001632</td>\n",
              "      <td>-0.001591</td>\n",
              "      <td>0.001322</td>\n",
              "      <td>0.000192</td>\n",
              "      <td>0.001887</td>\n",
              "      <td>-0.001541</td>\n",
              "      <td>0.001901</td>\n",
              "      <td>0.001552</td>\n",
              "      <td>0.000121</td>\n",
              "      <td>0.001964</td>\n",
              "      <td>0.001716</td>\n",
              "      <td>-0.000844</td>\n",
              "      <td>0.001965</td>\n",
              "      <td>-0.000159</td>\n",
              "      <td>0.001866</td>\n",
              "      <td>0.998414</td>\n",
              "    </tr>\n",
              "  </tbody>\n",
              "</table>\n",
              "<p>5 rows × 244 columns</p>\n",
              "</div>\n",
              "      <button class=\"colab-df-convert\" onclick=\"convertToInteractive('df-865a0745-a1e3-439d-a458-ce61ec587094')\"\n",
              "              title=\"Convert this dataframe to an interactive table.\"\n",
              "              style=\"display:none;\">\n",
              "        \n",
              "  <svg xmlns=\"http://www.w3.org/2000/svg\" height=\"24px\"viewBox=\"0 0 24 24\"\n",
              "       width=\"24px\">\n",
              "    <path d=\"M0 0h24v24H0V0z\" fill=\"none\"/>\n",
              "    <path d=\"M18.56 5.44l.94 2.06.94-2.06 2.06-.94-2.06-.94-.94-2.06-.94 2.06-2.06.94zm-11 1L8.5 8.5l.94-2.06 2.06-.94-2.06-.94L8.5 2.5l-.94 2.06-2.06.94zm10 10l.94 2.06.94-2.06 2.06-.94-2.06-.94-.94-2.06-.94 2.06-2.06.94z\"/><path d=\"M17.41 7.96l-1.37-1.37c-.4-.4-.92-.59-1.43-.59-.52 0-1.04.2-1.43.59L10.3 9.45l-7.72 7.72c-.78.78-.78 2.05 0 2.83L4 21.41c.39.39.9.59 1.41.59.51 0 1.02-.2 1.41-.59l7.78-7.78 2.81-2.81c.8-.78.8-2.07 0-2.86zM5.41 20L4 18.59l7.72-7.72 1.47 1.35L5.41 20z\"/>\n",
              "  </svg>\n",
              "      </button>\n",
              "      \n",
              "  <style>\n",
              "    .colab-df-container {\n",
              "      display:flex;\n",
              "      flex-wrap:wrap;\n",
              "      gap: 12px;\n",
              "    }\n",
              "\n",
              "    .colab-df-convert {\n",
              "      background-color: #E8F0FE;\n",
              "      border: none;\n",
              "      border-radius: 50%;\n",
              "      cursor: pointer;\n",
              "      display: none;\n",
              "      fill: #1967D2;\n",
              "      height: 32px;\n",
              "      padding: 0 0 0 0;\n",
              "      width: 32px;\n",
              "    }\n",
              "\n",
              "    .colab-df-convert:hover {\n",
              "      background-color: #E2EBFA;\n",
              "      box-shadow: 0px 1px 2px rgba(60, 64, 67, 0.3), 0px 1px 3px 1px rgba(60, 64, 67, 0.15);\n",
              "      fill: #174EA6;\n",
              "    }\n",
              "\n",
              "    [theme=dark] .colab-df-convert {\n",
              "      background-color: #3B4455;\n",
              "      fill: #D2E3FC;\n",
              "    }\n",
              "\n",
              "    [theme=dark] .colab-df-convert:hover {\n",
              "      background-color: #434B5C;\n",
              "      box-shadow: 0px 1px 3px 1px rgba(0, 0, 0, 0.15);\n",
              "      filter: drop-shadow(0px 1px 2px rgba(0, 0, 0, 0.3));\n",
              "      fill: #FFFFFF;\n",
              "    }\n",
              "  </style>\n",
              "\n",
              "      <script>\n",
              "        const buttonEl =\n",
              "          document.querySelector('#df-865a0745-a1e3-439d-a458-ce61ec587094 button.colab-df-convert');\n",
              "        buttonEl.style.display =\n",
              "          google.colab.kernel.accessAllowed ? 'block' : 'none';\n",
              "\n",
              "        async function convertToInteractive(key) {\n",
              "          const element = document.querySelector('#df-865a0745-a1e3-439d-a458-ce61ec587094');\n",
              "          const dataTable =\n",
              "            await google.colab.kernel.invokeFunction('convertToInteractive',\n",
              "                                                     [key], {});\n",
              "          if (!dataTable) return;\n",
              "\n",
              "          const docLinkHtml = 'Like what you see? Visit the ' +\n",
              "            '<a target=\"_blank\" href=https://colab.research.google.com/notebooks/data_table.ipynb>data table notebook</a>'\n",
              "            + ' to learn more about interactive tables.';\n",
              "          element.innerHTML = '';\n",
              "          dataTable['output_type'] = 'display_data';\n",
              "          await google.colab.output.renderOutput(dataTable, element);\n",
              "          const docLink = document.createElement('div');\n",
              "          docLink.innerHTML = docLinkHtml;\n",
              "          element.appendChild(docLink);\n",
              "        }\n",
              "      </script>\n",
              "    </div>\n",
              "  </div>\n",
              "  "
            ],
            "text/plain": [
              "   __exception__      bind  certopenstore  ...  wsasocketw  wsastartup     Label\n",
              "0      -0.000963  0.000718       0.000829  ...   -0.001195    0.001767  0.998609\n",
              "1      -0.000073 -0.000437       0.001255  ...   -0.001007    0.001756  0.998403\n",
              "2       0.000463 -0.000090       0.000298  ...   -0.000792    0.001725  0.998458\n",
              "3      -0.000110  0.000429      -0.000240  ...   -0.001103    0.001852  0.998449\n",
              "4      -0.000179  0.000160      -0.000069  ...   -0.000159    0.001866  0.998414\n",
              "\n",
              "[5 rows x 244 columns]"
            ]
          },
          "metadata": {},
          "execution_count": 18
        }
      ]
    },
    {
      "cell_type": "code",
      "source": [
        "#random.sample working\n",
        "# sample is an in-built function of random module in python \n",
        "# returns a particular length list of items chosen from the sequence i.e. list, tuple, string or set.\n",
        "# Lets define a list\n",
        "my_list = [\"apple\", \"banana\",1,2]\n",
        "my_tuple = (\"apple\",\"banana\",1,2)\n",
        "print(\"length of data\",len(my_tuple))\n",
        "print(\"value of k must be less than and non-negative than length of data\")\n",
        "# k must be less than list length or positive\n",
        "value_of_k = int(input(\"enter the value of k \"))\n",
        "\n",
        "if (value_of_k <= len(my_tuple) or value_of_k < 0):\n",
        "  print(random.sample(my_tuple,k=value_of_k))\n",
        "  \n",
        "else:\n",
        "  print(\"invalid value,try again\")"
      ],
      "metadata": {
        "colab": {
          "base_uri": "https://localhost:8080/"
        },
        "id": "CMS5Bkl7Fk-V",
        "outputId": "244fabdb-6407-48f3-c476-14a184b020f0"
      },
      "execution_count": 5,
      "outputs": [
        {
          "output_type": "stream",
          "name": "stdout",
          "text": [
            "length of data 4\n",
            "value of k must be less than and non-negative than length of data\n",
            "enter the value of k 2\n",
            "[1, 'banana']\n"
          ]
        }
      ]
    },
    {
      "cell_type": "code",
      "source": [
        "#range function exploration\n",
        "x = range(1,4)\n",
        "print(type(x))\n",
        "for i in x:\n",
        "  print(i)"
      ],
      "metadata": {
        "colab": {
          "base_uri": "https://localhost:8080/"
        },
        "id": "2waBUCTbJHDg",
        "outputId": "0250395d-ac13-4172-800f-1652a4763ad3"
      },
      "execution_count": 6,
      "outputs": [
        {
          "output_type": "stream",
          "name": "stdout",
          "text": [
            "<class 'range'>\n",
            "1\n",
            "2\n",
            "3\n"
          ]
        }
      ]
    },
    {
      "cell_type": "code",
      "source": [
        "train_df = pd.read_csv(train_data)\n",
        "test_df = pd.read_csv(test_data)\n",
        "# get no. of rows\n",
        "print(\"no. of rows in training dataset are\",train_df.shape[0])\n",
        "#get no. of columns\n",
        "print(\"no. of columns in training dataset are\",train_df.shape[1])\n",
        "# get no. of rows\n",
        "print(\"no. of rows in test dataset are\",test_df.shape[0])\n",
        "#get no. of columns\n",
        "print(\"no. of columns in test dataset are\",test_df.shape[1])"
      ],
      "metadata": {
        "colab": {
          "base_uri": "https://localhost:8080/"
        },
        "id": "hCSawe00FGS6",
        "outputId": "d71bcfaf-211b-472b-c785-41dccdb13a2a"
      },
      "execution_count": 7,
      "outputs": [
        {
          "output_type": "stream",
          "name": "stdout",
          "text": [
            "no. of rows in training dataset are 1857\n",
            "no. of columns in training dataset are 244\n",
            "no. of rows in test dataset are 100\n",
            "no. of columns in test dataset are 212\n"
          ]
        }
      ]
    },
    {
      "cell_type": "code",
      "source": [
        ""
      ],
      "metadata": {
        "id": "dRGsZZC8FjIM"
      },
      "execution_count": null,
      "outputs": []
    },
    {
      "cell_type": "code",
      "source": [
        "#print training\n",
        "print(\"Triainig data first five rows\")\n",
        "print(\"------------########----------\")\n",
        "print(train_df.head())\n",
        "print(\"Triainig data last five rows\")\n",
        "print(\"------------########----------\")\n",
        "print(train_df.tail())\n",
        "print(\"Test data first five rows\")\n",
        "print(\"------------########----------\")\n",
        "print(test_df.head())\n",
        "print(\"Test data last five rows\")\n",
        "print(\"------------########----------\")\n",
        "print(test_df.tail())"
      ],
      "metadata": {
        "id": "c6h7iBuqJTVo",
        "colab": {
          "base_uri": "https://localhost:8080/"
        },
        "outputId": "6f891a77-60b3-4fb9-caab-2221a1ea3ce6"
      },
      "execution_count": 8,
      "outputs": [
        {
          "output_type": "stream",
          "name": "stdout",
          "text": [
            "Triainig data first five rows\n",
            "------------########----------\n",
            "   __exception__      bind  certopenstore  ...  wsasocketw  wsastartup     Label\n",
            "0       0.000328  0.000332      -0.000819  ...   -0.000986    0.001678  0.998691\n",
            "1       0.111706 -0.001324       0.000822  ...   -0.000491    0.001510 -0.001434\n",
            "2      -0.000240 -0.000014       0.000215  ...   -0.001117    0.001809  0.998655\n",
            "3      -0.000963  0.000718       0.000829  ...   -0.001195    0.001767  0.998609\n",
            "4      -0.000073 -0.000437       0.001255  ...   -0.001007    0.001756  0.998403\n",
            "\n",
            "[5 rows x 244 columns]\n",
            "Triainig data last five rows\n",
            "------------########----------\n",
            "      __exception__  bind  certopenstore  ...  wsasocketw  wsastartup  Label\n",
            "1852       0.124269   0.0            0.0  ...    0.000000    0.000000    1.0\n",
            "1853       0.000000   0.0            0.0  ...    0.000000    0.000000    0.0\n",
            "1854       0.000000   0.0            0.0  ...    0.000000    0.000000    1.0\n",
            "1855       0.000000   0.0            0.0  ...    0.182634    0.059388    1.0\n",
            "1856       0.000000   0.0            0.0  ...    0.000000    0.000000    1.0\n",
            "\n",
            "[5 rows x 244 columns]\n",
            "Test data first five rows\n",
            "------------########----------\n",
            "   __exception__      bind  closesocket  ...  wsasendto  wsastartup  Label\n",
            "0       0.000072 -0.000144    -0.001173  ...  -0.001486   -0.000401      1\n",
            "1      -0.000293 -0.001024    -0.001216  ...  -0.001848   -0.000183      0\n",
            "2       0.000758 -0.000860    -0.000830  ...  -0.001334   -0.000504      0\n",
            "3       0.000180  0.000278     0.001307  ...  -0.001633   -0.000327      1\n",
            "4      -0.000217 -0.000171    -0.000100  ...  -0.001595    0.000349      1\n",
            "\n",
            "[5 rows x 212 columns]\n",
            "Test data last five rows\n",
            "------------########----------\n",
            "    __exception__      bind  closesocket  ...  wsasendto  wsastartup  Label\n",
            "95      -0.000612 -0.000683     0.000505  ...  -0.001791    0.000335      1\n",
            "96       0.000180  0.001180     0.001123  ...  -0.001531    0.000241      1\n",
            "97      -0.000129  0.000032    -0.000595  ...  -0.001457    0.000428      0\n",
            "98      -0.000394 -0.000211     0.000575  ...  -0.001436   -0.000620      0\n",
            "99       0.000290 -0.000471     0.000449  ...  -0.001595    0.000270      1\n",
            "\n",
            "[5 rows x 212 columns]\n"
          ]
        }
      ]
    },
    {
      "cell_type": "code",
      "source": [
        "from google.colab import files\n",
        "import io\n",
        "uploaded = files.upload()\n",
        "df_train = pd.read_csv(io.BytesIO(uploaded['Training.csv']))"
      ],
      "metadata": {
        "id": "9XeC9J9tPnPt",
        "colab": {
          "resources": {
            "http://localhost:8080/nbextensions/google.colab/files.js": {
              "data": "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",
              "ok": true,
              "headers": [
                [
                  "content-type",
                  "application/javascript"
                ]
              ],
              "status": 200,
              "status_text": ""
            }
          },
          "base_uri": "https://localhost:8080/",
          "height": 73
        },
        "outputId": "bc95f1aa-3b42-49ff-ae79-58f2f7b75a18"
      },
      "execution_count": 9,
      "outputs": [
        {
          "output_type": "display_data",
          "data": {
            "text/html": [
              "\n",
              "     <input type=\"file\" id=\"files-7d5e606d-d214-453c-bf7c-8a218543c1f1\" name=\"files[]\" multiple disabled\n",
              "        style=\"border:none\" />\n",
              "     <output id=\"result-7d5e606d-d214-453c-bf7c-8a218543c1f1\">\n",
              "      Upload widget is only available when the cell has been executed in the\n",
              "      current browser session. Please rerun this cell to enable.\n",
              "      </output>\n",
              "      <script src=\"/nbextensions/google.colab/files.js\"></script> "
            ],
            "text/plain": [
              "<IPython.core.display.HTML object>"
            ]
          },
          "metadata": {}
        },
        {
          "output_type": "stream",
          "name": "stdout",
          "text": [
            "Saving Training.csv to Training.csv\n"
          ]
        }
      ]
    },
    {
      "cell_type": "code",
      "source": [
        "df_train.shape"
      ],
      "metadata": {
        "id": "4ZprUcD8QMlV",
        "colab": {
          "base_uri": "https://localhost:8080/"
        },
        "outputId": "b95b189f-ac2d-467a-efc4-e77ae67e994d"
      },
      "execution_count": 10,
      "outputs": [
        {
          "output_type": "execute_result",
          "data": {
            "text/plain": [
              "(1857, 244)"
            ]
          },
          "metadata": {},
          "execution_count": 10
        }
      ]
    },
    {
      "cell_type": "code",
      "source": [
        "df_rough_data = pd.read_csv(rough_data)"
      ],
      "metadata": {
        "id": "SWkOg4EuE5Tf"
      },
      "execution_count": 36,
      "outputs": []
    },
    {
      "cell_type": "code",
      "source": [
        "df_rough_data.head()\n",
        "df_rough_data.iloc[0]"
      ],
      "metadata": {
        "id": "Vgds1HIe8byd"
      },
      "execution_count": null,
      "outputs": []
    },
    {
      "cell_type": "code",
      "source": [
        "print(df_rough_data.shape)\n",
        "print(df_rough_data.iloc[1])\n",
        "\n",
        "new_header = df_rough_data.iloc[0] #grab the first row for the header\n",
        "df_rough_data = df_rough_data[1:] #take the data less the header row\n",
        "print(df_rough_data.shape)\n",
        "print(df_rough_data.iloc[0])\n",
        "\n",
        "df_rough_data.columns = new_header #set the header row as the df header\n",
        "print(df_rough_data.shape)\n",
        "print(df_rough_data.iloc[0])"
      ],
      "metadata": {
        "colab": {
          "base_uri": "https://localhost:8080/"
        },
        "id": "-RwKhIZY8ikz",
        "outputId": "fd004865-fd5b-429a-f3f7-06b5269873a7"
      },
      "execution_count": 38,
      "outputs": [
        {
          "output_type": "stream",
          "name": "stdout",
          "text": [
            "(1857, 244)\n",
            "__exception__       0.111706\n",
            "bind               -0.001324\n",
            "certopenstore       0.000822\n",
            "closesocket         0.000938\n",
            "cocreateinstance   -0.000433\n",
            "                      ...   \n",
            "wsasendto          -0.001659\n",
            "wsasocketa          0.001927\n",
            "wsasocketw         -0.000491\n",
            "wsastartup          0.001510\n",
            "Label              -0.001434\n",
            "Name: 1, Length: 244, dtype: float64\n",
            "(1856, 244)\n",
            "__exception__       0.111706\n",
            "bind               -0.001324\n",
            "certopenstore       0.000822\n",
            "closesocket         0.000938\n",
            "cocreateinstance   -0.000433\n",
            "                      ...   \n",
            "wsasendto          -0.001659\n",
            "wsasocketa          0.001927\n",
            "wsasocketw         -0.000491\n",
            "wsastartup          0.001510\n",
            "Label              -0.001434\n",
            "Name: 1, Length: 244, dtype: float64\n",
            "(1856, 244)\n",
            "0\n",
            " 0.000328    0.111706\n",
            " 0.000332   -0.001324\n",
            "-0.000819    0.000822\n",
            " 0.001305    0.000938\n",
            " 0.000674   -0.000433\n",
            "               ...   \n",
            "-0.001347   -0.001659\n",
            " 0.001914    0.001927\n",
            "-0.000986   -0.000491\n",
            " 0.001678    0.001510\n",
            " 0.998691   -0.001434\n",
            "Name: 1, Length: 244, dtype: float64\n"
          ]
        }
      ]
    },
    {
      "cell_type": "code",
      "source": [
        "df1 = pd.read_csv(rough_data)\n",
        "print(df1.shape)\n",
        "print(df1.head())\n",
        "print(df1.shape[1])          # Show dimension of thecolumns\n",
        "print(range(df1.shape[1]))   # Show range of the columns\n",
        "\n",
        "df1.columns = range(df1.shape[1])   # Delete headers\n",
        "df1.shape\n",
        "print(df1.head())"
      ],
      "metadata": {
        "colab": {
          "base_uri": "https://localhost:8080/"
        },
        "id": "zUqWWTt8-5sN",
        "outputId": "85bcd77c-e644-49ba-fd5a-f20a95f8d418"
      },
      "execution_count": 47,
      "outputs": [
        {
          "output_type": "stream",
          "name": "stdout",
          "text": [
            "(1857, 244)\n",
            "   __exception__      bind  certopenstore  ...  wsasocketw  wsastartup     Label\n",
            "0       0.000328  0.000332      -0.000819  ...   -0.000986    0.001678  0.998691\n",
            "1       0.111706 -0.001324       0.000822  ...   -0.000491    0.001510 -0.001434\n",
            "2      -0.000240 -0.000014       0.000215  ...   -0.001117    0.001809  0.998655\n",
            "3      -0.000963  0.000718       0.000829  ...   -0.001195    0.001767  0.998609\n",
            "4      -0.000073 -0.000437       0.001255  ...   -0.001007    0.001756  0.998403\n",
            "\n",
            "[5 rows x 244 columns]\n",
            "244\n",
            "range(0, 244)\n",
            "        0         1         2    ...       241       242       243\n",
            "0  0.000328  0.000332 -0.000819  ... -0.000986  0.001678  0.998691\n",
            "1  0.111706 -0.001324  0.000822  ... -0.000491  0.001510 -0.001434\n",
            "2 -0.000240 -0.000014  0.000215  ... -0.001117  0.001809  0.998655\n",
            "3 -0.000963  0.000718  0.000829  ... -0.001195  0.001767  0.998609\n",
            "4 -0.000073 -0.000437  0.001255  ... -0.001007  0.001756  0.998403\n",
            "\n",
            "[5 rows x 244 columns]\n"
          ]
        }
      ]
    },
    {
      "cell_type": "code",
      "source": [
        "df3 = pd.read_csv(rough_data)\n",
        "#print(df3.shape)\n",
        "#df3.rename(columns=df3.iloc[0]).drop(df3.index[0])\n",
        "#df3.shape"
      ],
      "metadata": {
        "id": "ioul4EaeBRLC"
      },
      "execution_count": 57,
      "outputs": []
    },
    {
      "cell_type": "code",
      "source": [
        "numerics = ['int16', 'int32', 'int64', 'float16', 'float32', 'float64']\n",
        "\n",
        "newdf = df3.select_dtypes(include=numerics)\n",
        "print(newdf)"
      ],
      "metadata": {
        "colab": {
          "base_uri": "https://localhost:8080/"
        },
        "id": "xiHvK-z6CefC",
        "outputId": "feb6112a-640f-48ce-f03e-230c68ad6b17"
      },
      "execution_count": 54,
      "outputs": [
        {
          "output_type": "stream",
          "name": "stdout",
          "text": [
            "      __exception__      bind  certopenstore  ...  wsasocketw  wsastartup     Label\n",
            "0          0.000328  0.000332      -0.000819  ...   -0.000986    0.001678  0.998691\n",
            "1          0.111706 -0.001324       0.000822  ...   -0.000491    0.001510 -0.001434\n",
            "2         -0.000240 -0.000014       0.000215  ...   -0.001117    0.001809  0.998655\n",
            "3         -0.000963  0.000718       0.000829  ...   -0.001195    0.001767  0.998609\n",
            "4         -0.000073 -0.000437       0.001255  ...   -0.001007    0.001756  0.998403\n",
            "...             ...       ...            ...  ...         ...         ...       ...\n",
            "1852       0.124269  0.000000       0.000000  ...    0.000000    0.000000  1.000000\n",
            "1853       0.000000  0.000000       0.000000  ...    0.000000    0.000000  0.000000\n",
            "1854       0.000000  0.000000       0.000000  ...    0.000000    0.000000  1.000000\n",
            "1855       0.000000  0.000000       0.000000  ...    0.182634    0.059388  1.000000\n",
            "1856       0.000000  0.000000       0.000000  ...    0.000000    0.000000  1.000000\n",
            "\n",
            "[1857 rows x 244 columns]\n"
          ]
        }
      ]
    },
    {
      "cell_type": "code",
      "source": [
        "# find length of numeric columns in dataframe \n",
        "print(df3.select_dtypes(include=np.number).columns.tolist())\n",
        "print(len(df3.select_dtypes(include=np.number).columns))"
      ],
      "metadata": {
        "colab": {
          "base_uri": "https://localhost:8080/"
        },
        "id": "XPCBKAOlD-aZ",
        "outputId": "807ccba0-2f5e-4cf3-dc9e-80bce2b29dda"
      },
      "execution_count": 69,
      "outputs": [
        {
          "output_type": "stream",
          "name": "stdout",
          "text": [
            "['__exception__', 'bind', 'certopenstore', 'closesocket', 'cocreateinstance', 'cocreateinstanceex', 'cogetclassobject', 'coinitializeex', 'coinitializesecurity', 'connect', 'controlservice', 'copyfilea', 'copyfileexw', 'copyfilew', 'couninitialize', 'createactctxw', 'createdirectoryw', 'createprocessinternalw', 'createremotethread', 'createservicea', 'createservicew', 'createthread', 'createtoolhelp32snapshot', 'deletefilew', 'deleteservice', 'deleteurlcacheentrya', 'deviceiocontrol', 'dnsquery_a', 'dnsquery_w', 'drawtextexa', 'drawtextexw', 'enumservicesstatusa', 'enumwindows', 'findfirstfileexw', 'findresourcea', 'findresourceexa', 'findresourceexw', 'findresourcew', 'findwindowa', 'findwindowexa', 'findwindowexw', 'findwindoww', 'getadaptersaddresses', 'getadaptersinfo', 'getaddrinfo', 'getasynckeystate', 'getcomputernamea', 'getcomputernamew', 'getcursorpos', 'getdiskfreespaceexw', 'getdiskfreespacew', 'getfileattributesexw', 'getfileattributesw', 'getfileinformationbyhandle', 'getfilesize', 'getfilesizeex', 'getfiletype', 'getfileversioninfosizew', 'getfileversioninfow', 'getforegroundwindow', 'gethostbyname', 'getinterfaceinfo', 'getkeyboardstate', 'getkeystate', 'getnativesysteminfo', 'getshortpathnamew', 'getsockname', 'getsystemdirectorya', 'getsystemdirectoryw', 'getsysteminfo', 'getsystemmetrics', 'getsystemtimeasfiletime', 'getsystemwindowsdirectorya', 'getsystemwindowsdirectoryw', 'gettemppathw', 'gettimezoneinformation', 'getusernamea', 'getusernameexw', 'getusernamew', 'getvolumenameforvolumemountpointw', 'getvolumepathnamesforvolumenamew', 'getvolumepathnamew', 'globalmemorystatus', 'globalmemorystatusex', 'httpopenrequesta', 'httpopenrequestw', 'httpqueryinfoa', 'httpsendrequesta', 'httpsendrequestw', 'internetclosehandle', 'internetconnecta', 'internetconnectw', 'internetcrackurla', 'internetcrackurlw', 'internetgetconnectedstate', 'internetopena', 'internetopenurla', 'internetopenurlw', 'internetopenw', 'internetqueryoptiona', 'internetreadfile', 'internetsetoptiona', 'internetsetstatuscallback', 'ioctlsocket', 'isdebuggerpresent', 'iwbemservices_execquery', 'ldrgetdllhandle', 'ldrgetprocedureaddress', 'ldrloaddll', 'ldrunloaddll', 'listen', 'loadresource', 'loadstringa', 'loadstringw', 'lookupaccountsidw', 'lookupprivilegevaluew', 'messageboxtimeouta', 'messageboxtimeoutw', 'module32firstw', 'module32nextw', 'movefilewithprogressw', 'netgetjoininformation', 'netshareenum', 'netusergetinfo', 'netusergetlocalgroups', 'ntallocatevirtualmemory', 'ntclose', 'ntcreatefile', 'ntcreatekey', 'ntcreatemutant', 'ntcreateprocessex', 'ntcreatesection', 'ntdelayexecution', 'ntdeviceiocontrolfile', 'ntduplicateobject', 'ntenumeratekey', 'ntenumeratevaluekey', 'ntfreevirtualmemory', 'ntgetcontextthread', 'ntloadkey', 'ntmapviewofsection', 'ntopendirectoryobject', 'ntopenfile', 'ntopenkey', 'ntopenmutant', 'ntopenprocess', 'ntopensection', 'ntopenthread', 'ntprotectvirtualmemory', 'ntqueryattributesfile', 'ntquerydirectoryfile', 'ntqueryinformationfile', 'ntquerykey', 'ntquerysysteminformation', 'ntqueryvaluekey', 'ntqueueapcthread', 'ntreadfile', 'ntreadvirtualmemory', 'ntresumethread', 'ntsavekey', 'ntsetcontextthread', 'ntsetinformationfile', 'ntsetvaluekey', 'ntsuspendthread', 'ntterminateprocess', 'ntterminatethread', 'ntunmapviewofsection', 'ntwritefile', 'ntwritevirtualmemory', 'obtainuseragentstring', 'oleinitialize', 'openscmanagera', 'openscmanagerw', 'openservicea', 'openservicew', 'outputdebugstringa', 'process32firstw', 'process32nextw', 'readcabinetstate', 'readprocessmemory', 'regclosekey', 'regcreatekeyexa', 'regcreatekeyexw', 'regdeletekeya', 'regdeletekeyw', 'regdeletevaluea', 'regdeletevaluew', 'regenumkeyexa', 'regenumkeyexw', 'regenumkeyw', 'regenumvaluea', 'regenumvaluew', 'rego', 'regopenkeyexa', 'regopenkeyexw', 'regqueryinfokeya', 'regqueryinfokeyw', 'regqueryvalueexa', 'regqueryvalueexw', 'regsetvalueexa', 'regsetvalueexw', 'removedirectorya', 'removedirectoryw', 'rtladdvectoredexceptionhandler', 'rtlcreateuserthread', 'rtldecompressbuffer', 'rtlremovevectoredexceptionhandler', 'searchpathw', 'select', 'send', 'sendnotifymessagea', 'sendnotifymessagew', 'sendto', 'setendoffile', 'seterrormode', 'setfileattributesw', 'setfilepointer', 'setfilepointerex', 'setfiletime', 'setsockopt', 'setunhandledexceptionfilter', 'setwindowshookexa', 'setwindowshookexw', 'shellexecuteexw', 'shgetfolderpathw', 'shgetspecialfolderlocation', 'shutdown', 'sizeofresource', 'socket', 'startservicea', 'startservicew', 'timegettime', 'unhookwindowshookex', 'uuidcreate', 'writeconsolea', 'writeconsolew', 'writeprocessmemory', 'wsarecv', 'wsarecvfrom', 'wsasendto', 'wsasocketa', 'wsasocketw', 'wsastartup', 'Label']\n",
            "244\n"
          ]
        }
      ]
    },
    {
      "cell_type": "code",
      "source": [
        "df3._get_numeric_data()\n",
        "df3.dtypes"
      ],
      "metadata": {
        "colab": {
          "base_uri": "https://localhost:8080/"
        },
        "id": "E6GaGECmEYNV",
        "outputId": "3dcb5407-554b-47ba-da23-750ba1f19189"
      },
      "execution_count": 64,
      "outputs": [
        {
          "output_type": "execute_result",
          "data": {
            "text/plain": [
              "__exception__       float64\n",
              "bind                float64\n",
              "certopenstore       float64\n",
              "closesocket         float64\n",
              "cocreateinstance    float64\n",
              "                     ...   \n",
              "wsasendto           float64\n",
              "wsasocketa          float64\n",
              "wsasocketw          float64\n",
              "wsastartup          float64\n",
              "Label               float64\n",
              "Length: 244, dtype: object"
            ]
          },
          "metadata": {},
          "execution_count": 64
        }
      ]
    },
    {
      "cell_type": "code",
      "source": [
        "df3.dtypes[df3.dtypes != \"float64\"].index "
      ],
      "metadata": {
        "colab": {
          "base_uri": "https://localhost:8080/"
        },
        "id": "TebSGw0iEs6Z",
        "outputId": "79d62989-2fd2-48c7-ace6-00afe09ffa90"
      },
      "execution_count": 65,
      "outputs": [
        {
          "output_type": "execute_result",
          "data": {
            "text/plain": [
              "Index([], dtype='object')"
            ]
          },
          "metadata": {},
          "execution_count": 65
        }
      ]
    },
    {
      "cell_type": "code",
      "source": [
        ""
      ],
      "metadata": {
        "id": "6AWXmzHrFGFP"
      },
      "execution_count": null,
      "outputs": []
    }
  ]
}