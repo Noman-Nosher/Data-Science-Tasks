{
  "nbformat": 4,
  "nbformat_minor": 0,
  "metadata": {
    "colab": {
      "name": "tuple_problem.ipynb",
      "provenance": [],
      "authorship_tag": "ABX9TyNyI2uYbKcPY+Bi2CKMKHfj",
      "include_colab_link": true
    },
    "kernelspec": {
      "name": "python3",
      "display_name": "Python 3"
    },
    "language_info": {
      "name": "python"
    }
  },
  "cells": [
    {
      "cell_type": "markdown",
      "metadata": {
        "id": "view-in-github",
        "colab_type": "text"
      },
      "source": [
        "<a href=\"https://colab.research.google.com/github/Noman-Nosher/Data-Science-Tasks/blob/main/tuple_problem.ipynb\" target=\"_parent\"><img src=\"https://colab.research.google.com/assets/colab-badge.svg\" alt=\"Open In Colab\"/></a>"
      ]
    },
    {
      "cell_type": "code",
      "execution_count": 1,
      "metadata": {
        "id": "fHua0OtJ-s3e"
      },
      "outputs": [],
      "source": [
        "# list of tuples \n",
        "contacts = [(\"noman\",1),(\"husnain\",2),(\"azfar\",3)]\n"
      ]
    },
    {
      "cell_type": "code",
      "source": [
        "print(contacts)"
      ],
      "metadata": {
        "colab": {
          "base_uri": "https://localhost:8080/",
          "height": 0
        },
        "id": "aYnA8yEA_KBh",
        "outputId": "e86d6041-2270-4ab3-9521-fe3ac6f720f6"
      },
      "execution_count": 2,
      "outputs": [
        {
          "output_type": "stream",
          "name": "stdout",
          "text": [
            "[('noman', 1), ('husnain', 2), ('azfar', 3)]\n"
          ]
        }
      ]
    },
    {
      "cell_type": "code",
      "source": [
        "contacts[0][0]"
      ],
      "metadata": {
        "colab": {
          "base_uri": "https://localhost:8080/",
          "height": 35
        },
        "id": "FOd49GJ4_Rb-",
        "outputId": "a9fbe832-28d5-49ce-cf35-6ccb3267f9d5"
      },
      "execution_count": 4,
      "outputs": [
        {
          "output_type": "execute_result",
          "data": {
            "application/vnd.google.colaboratory.intrinsic+json": {
              "type": "string"
            },
            "text/plain": [
              "'noman'"
            ]
          },
          "metadata": {},
          "execution_count": 4
        }
      ]
    },
    {
      "cell_type": "code",
      "source": [
        "type(contacts[0][0])"
      ],
      "metadata": {
        "colab": {
          "base_uri": "https://localhost:8080/",
          "height": 0
        },
        "id": "B-T8Jjlf_UdK",
        "outputId": "72599820-6d1e-4876-d524-335630882864"
      },
      "execution_count": 5,
      "outputs": [
        {
          "output_type": "execute_result",
          "data": {
            "text/plain": [
              "str"
            ]
          },
          "metadata": {},
          "execution_count": 5
        }
      ]
    },
    {
      "cell_type": "code",
      "source": [
        "# lets loop through\n",
        "for name,value in contacts:\n",
        "  print(f\"name is {name} and value is {value}\".format(name,value))"
      ],
      "metadata": {
        "colab": {
          "base_uri": "https://localhost:8080/",
          "height": 0
        },
        "id": "UCbjyenq_p84",
        "outputId": "36e1425c-100c-41ca-85ad-3c7e0f01e0f2"
      },
      "execution_count": 7,
      "outputs": [
        {
          "output_type": "stream",
          "name": "stdout",
          "text": [
            "name is noman and value is 1\n",
            "name is husnain and value is 2\n",
            "name is azfar and value is 3\n"
          ]
        }
      ]
    },
    {
      "cell_type": "code",
      "source": [
        "\n",
        "searched_name = input('Enter the name of guy ')\n",
        "for name,value in contacts:\n",
        "  if name == searched_name:\n",
        "    print(f\"{name} is {value}\".format(name,value))\n",
        "    break\n",
        "else:\n",
        "  print(\"Not found\")\n"
      ],
      "metadata": {
        "colab": {
          "base_uri": "https://localhost:8080/"
        },
        "id": "wpzoObbq_1-k",
        "outputId": "5ad2126b-4530-4c68-8b2a-3b8f175b5642"
      },
      "execution_count": 14,
      "outputs": [
        {
          "output_type": "stream",
          "name": "stdout",
          "text": [
            "Enter the name of guy husnian\n",
            "Not found\n"
          ]
        }
      ]
    },
    {
      "cell_type": "code",
      "source": [
        ""
      ],
      "metadata": {
        "id": "uKpWu24iAWLP"
      },
      "execution_count": 13,
      "outputs": []
    }
  ]
}